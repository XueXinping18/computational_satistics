{
 "cells": [
  {
   "cell_type": "code",
   "execution_count": 14,
   "id": "42eb2f37",
   "metadata": {},
   "outputs": [],
   "source": [
    "import numpy as np\n",
    "import pandas as pd\n",
    "import matplotlib.pyplot as plt"
   ]
  },
  {
   "cell_type": "markdown",
   "id": "255ebb5a",
   "metadata": {},
   "source": [
    "## Question 3"
   ]
  },
  {
   "cell_type": "markdown",
   "id": "03f8ae01",
   "metadata": {},
   "source": [
    "### a)"
   ]
  },
  {
   "cell_type": "code",
   "execution_count": 91,
   "id": "3d3ffce4",
   "metadata": {},
   "outputs": [],
   "source": [
    "def AdjunctProduct(X):\n",
    "    (a,b) = X.shape\n",
    "    total = (X[0:a-1,:]*X[1:a,:]).sum()+(X[:,0:b-1]*X[:,1:b]).sum()\n",
    "    return total\n",
    "\n",
    "def U(X):\n",
    "    (a,b) = X.shape\n",
    "    return -0.02*((X[0:a-1,:]*X[1:a,:]).sum()+(X[:,0:b-1]*X[:,1:b]).sum())+0.03*X.sum()\n",
    "    \n",
    "\n",
    "# Gibbs sampling with Ising Model with parameters fixed as in the question setting\n",
    "def GibbsSamplingForIsing(m,n,t):\n",
    "    ''' Input: the dimensions of the lattice space m*n\n",
    "        t: number of samples\n",
    "    '''\n",
    "    ### Initialize the matrix (initial state, to simplify calculation, we use a circle of zeros to surround the data)\n",
    "    X = np.zeros((m+2,n+2))\n",
    "    X[1:m+1,1:n+1] = 1\n",
    "    Sample = []\n",
    "    for k in range(t):\n",
    "        for i in range(1,m+1):\n",
    "            for j in range(1,n+1):\n",
    "                threshold = 1/(1+np.exp(-0.04*(X[i-1,j] + X[i+1,j] + X[i,j-1]+ X[i,j+1]) + 0.06))\n",
    "                if np.random.random() < threshold:\n",
    "                    X[i,j] = 1\n",
    "                else:\n",
    "                    X[i,j] = -1\n",
    "        Sample.append(U(X))\n",
    "\n",
    "    return np.array(Sample)"
   ]
  },
  {
   "cell_type": "code",
   "execution_count": 92,
   "id": "e961e949",
   "metadata": {},
   "outputs": [
    {
     "data": {
      "text/plain": [
       "array([ 0.22, -0.12,  0.28, ...,  0.16,  0.26, -0.12])"
      ]
     },
     "execution_count": 92,
     "metadata": {},
     "output_type": "execute_result"
    }
   ],
   "source": [
    "# Using Gibbs Sampler calculate the result\n",
    "SampleOfU = GibbsSamplingForIsing(4,5,10000)\n",
    "SampleOfU"
   ]
  },
  {
   "cell_type": "code",
   "execution_count": 93,
   "id": "ca00471f",
   "metadata": {},
   "outputs": [
    {
     "data": {
      "text/plain": [
       "[<matplotlib.lines.Line2D at 0x26fe020d8e0>]"
      ]
     },
     "execution_count": 93,
     "metadata": {},
     "output_type": "execute_result"
    },
    {
     "data": {
      "image/png": "[encoded data removed]",
      "text/plain": [
       "<Figure size 432x288 with 1 Axes>"
      ]
     },
     "metadata": {
      "needs_background": "light"
     },
     "output_type": "display_data"
    }
   ],
   "source": [
    "# TracePlot\n",
    "plt.plot(SampleOfU)"
   ]
  },
  {
   "cell_type": "code",
   "execution_count": 94,
   "id": "12e39d2e",
   "metadata": {},
   "outputs": [
    {
     "data": {
      "text/plain": [
       "-0.03378181818181818"
      ]
     },
     "execution_count": 94,
     "metadata": {},
     "output_type": "execute_result"
    }
   ],
   "source": [
    "# Drop 10 burn-in periods, we get the estimation result\n",
    "SampleOfU[100:].mean()"
   ]
  },
  {
   "cell_type": "code",
   "execution_count": 95,
   "id": "8dffaeee",
   "metadata": {},
   "outputs": [],
   "source": [
    "# Obtain an array of U of every possible x by a recursive algorithm\n",
    "def traverse(m, n, func):\n",
    "    '''m*n are dimensions of the random matrix, func is the function of the random matrix '''\n",
    "    X = np.zeros((m,n))\n",
    "    # Y is a view of X, the operation on Y will also change X\n",
    "    Y = X.reshape((m*n,))\n",
    "    # result list\n",
    "    List = []\n",
    "    traversal(X, Y, 0, List, func)\n",
    "    return List\n",
    "\n",
    "def traversal(X, Y, i, List, func):\n",
    "    if i+1 != len(Y):\n",
    "        Y[i] = 1\n",
    "        traversal(X, Y, i+1, List, func)\n",
    "        Y[i] = -1\n",
    "        traversal(X, Y, i+1, List, func)\n",
    "    else:\n",
    "        Y[i] = 1\n",
    "        List.append(func(X))\n",
    "        Y[i] = -1\n",
    "        List.append(func(X))\n",
    "        "
   ]
  },
  {
   "cell_type": "code",
   "execution_count": 96,
   "id": "0c2810de",
   "metadata": {},
   "outputs": [],
   "source": [
    "# Obtain the array of U\n",
    "result = traverse(4,5,U)"
   ]
  },
  {
   "cell_type": "code",
   "execution_count": 97,
   "id": "b5b86d00",
   "metadata": {},
   "outputs": [
    {
     "data": {
      "text/plain": [
       "-0.03217921501591532"
      ]
     },
     "execution_count": 97,
     "metadata": {},
     "output_type": "execute_result"
    }
   ],
   "source": [
    "# Calculate the exact value of E(U)\n",
    "uArray = np.array(result)\n",
    "num = (uArray*np.exp(-uArray)).sum()\n",
    "denom = (np.exp(-uArray)).sum()\n",
    "ExactValue = num/denom\n",
    "ExactValue"
   ]
  },
  {
   "cell_type": "markdown",
   "id": "5139b479",
   "metadata": {},
   "source": [
    "The Exact value is pretty close the to value obtained by MCMC"
   ]
  },
  {
   "cell_type": "markdown",
   "id": "e849ffd0",
   "metadata": {},
   "source": [
    "### b)"
   ]
  },
  {
   "cell_type": "code",
   "execution_count": 98,
   "id": "a883f541",
   "metadata": {},
   "outputs": [
    {
     "data": {
      "text/plain": [
       "-0.7022892"
      ]
     },
     "execution_count": 98,
     "metadata": {},
     "output_type": "execute_result"
    }
   ],
   "source": [
    "# We generate 50000 observations t=50000\n",
    "GibbsSamplingForIsing(20,20,50000).mean()"
   ]
  },
  {
   "cell_type": "code",
   "execution_count": null,
   "id": "99a37df9",
   "metadata": {},
   "outputs": [],
   "source": []
  }
 ],
 "metadata": {
  "kernelspec": {
   "display_name": "Python 3",
   "language": "python",
   "name": "python3"
  },
  "language_info": {
   "codemirror_mode": {
    "name": "ipython",
    "version": 3
   },
   "file_extension": ".py",
   "mimetype": "text/x-python",
   "name": "python",
   "nbconvert_exporter": "python",
   "pygments_lexer": "ipython3",
   "version": "3.9.5"
  }
 },
 "nbformat": 4,
 "nbformat_minor": 5
}
