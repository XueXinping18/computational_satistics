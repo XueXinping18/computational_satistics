{
 "cells": [
  {
   "cell_type": "code",
   "execution_count": 3,
   "id": "12e4ac1d",
   "metadata": {},
   "outputs": [],
   "source": [
    "import numpy as np\n",
    "import pandas as pd"
   ]
  },
  {
   "cell_type": "markdown",
   "id": "4178146b",
   "metadata": {},
   "source": [
    "## Question 1 "
   ]
  },
  {
   "cell_type": "markdown",
   "id": "cc770b8d",
   "metadata": {},
   "source": [
    "### a)"
   ]
  },
  {
   "cell_type": "markdown",
   "id": "ebac67d6",
   "metadata": {},
   "source": [
    "$ p $ is just a constant. Therefore the variance of $ \\hat{p} - p$ is the same as the variance of $ \\hat{p} $."
   ]
  },
  {
   "cell_type": "code",
   "execution_count": 53,
   "id": "3f229b64",
   "metadata": {},
   "outputs": [
    {
     "name": "stdout",
     "output_type": "stream",
     "text": [
      "The estimated variance is\n",
      "0.0018268773589999998\n",
      "The true variance is\n",
      "0.001824\n"
     ]
    }
   ],
   "source": [
    "# Define the original Sample\n",
    "X = np.zeros(100)\n",
    "X[0:24] = 1\n",
    "\n",
    "# Bootstrap Sample maker\n",
    "def Bootstrap(X, nRepeats):\n",
    "    n = X.size\n",
    "    Samples = []\n",
    "    for i in range(nRepeats):\n",
    "        mask = np.random.randint(n, size = X.shape)\n",
    "        Samples.append(X[mask])\n",
    "    return Samples\n",
    "\n",
    "# Draw 10000 samples by bootstrapping\n",
    "N = 10000\n",
    "Samples = Bootstrap(X, N)\n",
    "\n",
    "# Get the sample of p_hat\n",
    "Means = np.array(list(map(lambda x: x.mean(), Samples)))\n",
    "\n",
    "# Get the sample variance as the estimator of Var(p_hat)\n",
    "print('The estimated variance is')\n",
    "print(Means.var())\n",
    "print('The true variance is')\n",
    "print(0.24*0.76/100)"
   ]
  },
  {
   "cell_type": "markdown",
   "id": "dcf82513",
   "metadata": {},
   "source": [
    "### b)"
   ]
  },
  {
   "cell_type": "code",
   "execution_count": 54,
   "id": "40c239fd",
   "metadata": {},
   "outputs": [
    {
     "name": "stdout",
     "output_type": "stream",
     "text": [
      "The 95% CI is:\n",
      "[0.160000,0.320000]\n"
     ]
    }
   ],
   "source": [
    "# Sort the array\n",
    "SortedMeans = sorted(Means)\n",
    "# Calculate empirical quantiles\n",
    "low = SortedMeans[int(N*0.025)]\n",
    "high = SortedMeans[int(N*0.975//1)]\n",
    "# Obtain the final result\n",
    "lowerBound = 2*0.24 - high\n",
    "higherBound = 2*0.24 - low\n",
    "print('The 95% CI is:')\n",
    "print('[%f,%f]' %(lowerBound, higherBound))"
   ]
  },
  {
   "cell_type": "markdown",
   "id": "e58c3a5c",
   "metadata": {},
   "source": [
    "## Question 2"
   ]
  },
  {
   "cell_type": "code",
   "execution_count": 34,
   "id": "336f8127",
   "metadata": {},
   "outputs": [],
   "source": [
    "# Given Data, return the MLE as a vector\n",
    "def sigmoid(x):\n",
    "    return 1/(1+np.exp(-x))\n",
    "    \n",
    "def MLE_logit(X, y, learningRate):\n",
    "    X = X.copy()\n",
    "    # Add a column of ones to X\n",
    "    m = X.shape[0]\n",
    "    X = np.hstack([np.ones((m,1)),X])\n",
    "    p = X.shape[1]\n",
    "    epsilon = 10**-12\n",
    "    # Initialization of parameters\n",
    "    beta = np.zeros((p,1))\n",
    "    \n",
    "    # Calculate the predicted value\n",
    "    while(1):\n",
    "        y_hat = sigmoid(X@beta)\n",
    "        gradient = X.T@(y - y_hat)\n",
    "        beta1 = beta + learningRate*gradient\n",
    "        if (beta1 - beta).T @ (beta1-beta) < epsilon:\n",
    "            y_hat = sigmoid(X@beta1)\n",
    "            return beta1, y_hat\n",
    "        beta = beta1"
   ]
  },
  {
   "cell_type": "code",
   "execution_count": 35,
   "id": "e5c7dc8d",
   "metadata": {},
   "outputs": [
    {
     "name": "stdout",
     "output_type": "stream",
     "text": [
      "The MLE of beta is\n",
      "[[1.62014168]\n",
      " [0.05334902]\n",
      " [2.00558986]]\n"
     ]
    }
   ],
   "source": [
    "# Load the data\n",
    "Data = pd.read_csv('HW_chapter6_2.txt', delim_whitespace=True)\n",
    "y = Data['Y'].to_numpy().reshape((-1,1))\n",
    "X = Data[['X1','X2']].to_numpy()\n",
    "\n",
    "# Calculate the correct MLE \n",
    "beta_MLE, prob = MLE_logit(X, y , 0.01)\n",
    "print('The MLE of beta is')\n",
    "print(beta_MLE)"
   ]
  },
  {
   "cell_type": "code",
   "execution_count": 48,
   "id": "0683d463",
   "metadata": {},
   "outputs": [],
   "source": [
    "# Bootstrapping one sample y from the orginal sample\n",
    "def Bootstrap_logit(prob):\n",
    "    m = prob.shape[0]\n",
    "    y = np.zeros(prob.shape)\n",
    "    u = np.random.random(prob.shape)\n",
    "    y[u < prob] = 1\n",
    "    return y\n",
    "# Repeat for 1000 times and get the MLE for each sample\n",
    "beta0 = []\n",
    "beta1 = []\n",
    "beta2 = []\n",
    "for i in range(1000):\n",
    "    y_tilda = Bootstrap_logit(prob)\n",
    "    beta_new = MLE_logit(X, y_tilda, 0.01)[0]\n",
    "    beta0.append(beta_new[0,0])\n",
    "    beta1.append(beta_new[1,0])\n",
    "    beta2.append(beta_new[2,0])"
   ]
  },
  {
   "cell_type": "code",
   "execution_count": 61,
   "id": "af4ee6f2",
   "metadata": {},
   "outputs": [
    {
     "name": "stdout",
     "output_type": "stream",
     "text": [
      "beta0\n",
      "The 95% CI is:\n",
      "[0.567752,2.230890]\n",
      "beta1\n",
      "The 95% CI is:\n",
      "[-0.524007,0.624939]\n",
      "beta2\n",
      "The 95% CI is:\n",
      "[0.781464,2.638388]\n"
     ]
    }
   ],
   "source": [
    "# from list to  CI\n",
    "def CI(List, yhat):\n",
    "    SortedList = sorted(List)\n",
    "    N = len(SortedList)\n",
    "    # Calculate empirical quantiles\n",
    "    low = SortedList[int(N*0.025)]\n",
    "    high = SortedList[int(N*0.975)]\n",
    "    # Obtain the final result\n",
    "    lowerBound = 2*yhat - high\n",
    "    higherBound = 2*yhat - low\n",
    "    print('The 95% CI is:')\n",
    "    print('[%f,%f]' %(lowerBound, higherBound))\n",
    "print('beta0')    \n",
    "CI(beta0,beta_MLE[0,0])\n",
    "print('beta1') \n",
    "CI(beta1,beta_MLE[1,0])\n",
    "print('beta2')\n",
    "CI(beta2,beta_MLE[2,0])"
   ]
  },
  {
   "cell_type": "code",
   "execution_count": null,
   "id": "17ac2df1",
   "metadata": {},
   "outputs": [],
   "source": []
  }
 ],
 "metadata": {
  "kernelspec": {
   "display_name": "Python 3 (ipykernel)",
   "language": "python",
   "name": "python3"
  },
  "language_info": {
   "codemirror_mode": {
    "name": "ipython",
    "version": 3
   },
   "file_extension": ".py",
   "mimetype": "text/x-python",
   "name": "python",
   "nbconvert_exporter": "python",
   "pygments_lexer": "ipython3",
   "version": "3.9.7"
  }
 },
 "nbformat": 4,
 "nbformat_minor": 5
}
