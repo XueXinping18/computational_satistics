{
 "cells": [
  {
   "cell_type": "code",
   "execution_count": 2,
   "id": "493eb134",
   "metadata": {},
   "outputs": [],
   "source": [
    "import numpy as np\n",
    "import pandas as pd"
   ]
  },
  {
   "cell_type": "markdown",
   "id": "81d22c63",
   "metadata": {},
   "source": [
    "## Question 7, Chapter 1"
   ]
  },
  {
   "cell_type": "markdown",
   "id": "8ace3ea0",
   "metadata": {},
   "source": [
    "Likelihood function: <br>\n",
    "$l(\\beta;X_{1,1:n},X_{2,1:n},Y_{1:n}) = \\prod_{i=1}^n[\\frac{e^{x_i^T\\beta}}{1+e^{x_i^T\\beta}}]^{Y_i}[\\frac{1}{1+e^{x_i^T\\beta}}]^{1-Y_i}$ <br><br>\n",
    "\n",
    "log-likelihood function: <br>\n",
    "$ L(\\beta) = \\sum_{i=1}^n [Y_ix_i^T\\beta - \\log(1+e^{x_i^T\\beta})]   $ <br><br>\n",
    "\n",
    "Gradient of the log likelihood function: <br>\n",
    "$ \\nabla L(\\beta) = \\sum_{i=1}^n(Y_i-\\frac{1}{1+e^{-x_i^T\\beta}})x_i  $<br><br>\n",
    "\n",
    "Hessian of the log likelihood function: <br>\n",
    "$ \\nabla^2 L(\\beta) = - \\sum_{i=1}^n\\frac{e^{-x_i^T\\beta}}{[1+e^{-x_i^T\\beta}]^2}x_ix_i^T $"
   ]
  },
  {
   "cell_type": "code",
   "execution_count": 3,
   "id": "d43ceb0b",
   "metadata": {},
   "outputs": [],
   "source": [
    "# Load the data\n",
    "data = pd.read_csv(\"HW_chapter1_7.txt\",delim_whitespace =True)\n",
    "\n",
    "# Create X matrix and Y vector\n",
    "X = data[['X1','X2']]\n",
    "X['X0'] = 1\n",
    "X = X.reindex(columns = ['X0','X1','X2']).to_numpy()\n",
    "Y = data[['Y']].to_numpy()  # Note here we must make Y a 2-dimensional column vector for further calculation\n",
    "\n",
    "# Gradient and Hessian using matrix multiplication\n",
    "Gradient = lambda beta: (X.T)@(Y-1/(1 + np.exp(-X@(beta.reshape((X.shape[1],1))))))\n",
    "def Hessian(beta):\n",
    "    mid = np.exp(-X@(beta.reshape((X.shape[1],1)))) # Avoid repeated calculations\n",
    "    Diagnal = np.diag((-mid/(1+mid)**2).flatten())\n",
    "    Result = (X.T)@Diagnal@X\n",
    "    \n",
    "    return Result"
   ]
  },
  {
   "cell_type": "code",
   "execution_count": 4,
   "id": "e3315ea8",
   "metadata": {},
   "outputs": [
    {
     "name": "stdout",
     "output_type": "stream",
     "text": [
      "The MLE of beta:\n",
      "[[0.58579244]\n",
      " [1.38140903]\n",
      " [1.27957259]]\n"
     ]
    }
   ],
   "source": [
    "# Newtons' method\n",
    "\n",
    "def Newton(Grad, Hess, x0, tol):\n",
    "    x0 = x0.reshape((3,1))\n",
    "    while 1:\n",
    "        x1 = x0 - ((np.linalg.inv(Hess(x0)))@(Grad(x0)))\n",
    "        if np.linalg.norm(x1 - x0) <= tol:\n",
    "            break\n",
    "        else:\n",
    "            x0 = x1\n",
    "    return x1\n",
    "\n",
    "beta_hat = Newton(Gradient, Hessian, np.zeros((1,3)),10**-10)\n",
    "print('The MLE of beta:')\n",
    "print(beta_hat)"
   ]
  },
  {
   "cell_type": "code",
   "execution_count": 5,
   "id": "0d7138e8",
   "metadata": {},
   "outputs": [
    {
     "data": {
      "text/plain": [
       "array([ -5.61071468, -16.75400798, -13.46365762])"
      ]
     },
     "execution_count": 5,
     "metadata": {},
     "output_type": "execute_result"
    }
   ],
   "source": [
    "# Check\n",
    "np.linalg.eigvals(Hessian(beta_hat))\n",
    "\n",
    "# Showing it is negative definite (maximum)"
   ]
  },
  {
   "cell_type": "code",
   "execution_count": null,
   "id": "474ca11f",
   "metadata": {},
   "outputs": [],
   "source": []
  }
 ],
 "metadata": {
  "kernelspec": {
   "display_name": "Python 3",
   "language": "python",
   "name": "python3"
  },
  "language_info": {
   "codemirror_mode": {
    "name": "ipython",
    "version": 3
   },
   "file_extension": ".py",
   "mimetype": "text/x-python",
   "name": "python",
   "nbconvert_exporter": "python",
   "pygments_lexer": "ipython3",
   "version": "3.9.5"
  }
 },
 "nbformat": 4,
 "nbformat_minor": 5
}
