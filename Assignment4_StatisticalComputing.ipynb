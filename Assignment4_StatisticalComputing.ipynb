{
 "cells": [
  {
   "cell_type": "markdown",
   "metadata": {},
   "source": [
    "### Chapter 2 Question 3(b)"
   ]
  },
  {
   "cell_type": "code",
   "execution_count": 1,
   "metadata": {},
   "outputs": [],
   "source": [
    "import numpy as np"
   ]
  },
  {
   "cell_type": "code",
   "execution_count": 5,
   "metadata": {},
   "outputs": [],
   "source": [
    "def EM_reduced(p ,N ,tol):\n",
    "    n = np.sum(N)\n",
    "    print('------Iteration Begins--------')\n",
    "    \n",
    "    \n",
    "    # Count the number of iterations for debugging\n",
    "    count = 0\n",
    "    while 1:\n",
    "        count += 1\n",
    "        # useful middle values\n",
    "        denomC = p[0]**2 + 2*p[0]*p[1] + 2*p[0]*p[2]\n",
    "        denomI = p[1]**2 + 2*p[1]*p[2]\n",
    "        denomU = (p[1] + p[2])**2\n",
    "\n",
    "        # expected X conditional on Y\n",
    "        ncc = N[0]*p[0]**2/denomC\n",
    "        nci = N[0]*2*p[0]*p[1]/denomC\n",
    "        nct = N[0]*2*p[0]*p[2]/denomC\n",
    "        nii = N[1]*p[1]**2/denomI + N[3]*p[1]**2/denomU\n",
    "        nit = N[1]*2*p[1]*p[2]/denomI + N[3]*2*p[1]*p[2]/denomU\n",
    "        ntt = N[2] + N[3]*p[2]**2/denomU\n",
    "        \n",
    "        # Print out iteration\n",
    "        print('%f,%f,%f' %(p[0],p[1],p[2]))\n",
    "        \n",
    "        # update p\n",
    "        p1 = np.zeros(3)\n",
    "        p1[0] = (2*ncc+nci+nct)/(2*n)\n",
    "        p1[1] = (nci+2*nii+nit)/(2*n)\n",
    "        p1[2] = (nct+nit+2*ntt)/(2*n)\n",
    "        if np.linalg.norm(p1 - p) < tol:\n",
    "            print('------Iteration Ends Successfully--------')\n",
    "            break\n",
    "        elif count > 10**3:\n",
    "            print('------Iteration Fails!--------')\n",
    "            break\n",
    "        else:\n",
    "            p = p1.copy()\n",
    "    return p1"
   ]
  },
  {
   "cell_type": "code",
   "execution_count": 6,
   "metadata": {},
   "outputs": [
    {
     "name": "stdout",
     "output_type": "stream",
     "text": [
      "------Iteration Begins--------\n",
      "0.333333,0.333333,0.333333\n",
      "0.042500,0.363889,0.593611\n",
      "0.036186,0.297046,0.666768\n",
      "0.036069,0.255707,0.708224\n",
      "0.036067,0.231152,0.732781\n",
      "0.036067,0.216634,0.747299\n",
      "0.036067,0.208068,0.755865\n",
      "0.036067,0.203021,0.760912\n",
      "0.036067,0.200049,0.763884\n",
      "0.036067,0.198299,0.765633\n",
      "0.036067,0.197270,0.766663\n",
      "0.036067,0.196664,0.767268\n",
      "0.036067,0.196308,0.767625\n",
      "0.036067,0.196099,0.767834\n",
      "0.036067,0.195975,0.767958\n",
      "0.036067,0.195903,0.768030\n",
      "0.036067,0.195860,0.768073\n",
      "0.036067,0.195835,0.768098\n",
      "0.036067,0.195820,0.768113\n",
      "0.036067,0.195812,0.768121\n",
      "0.036067,0.195806,0.768126\n",
      "0.036067,0.195803,0.768129\n",
      "0.036067,0.195802,0.768131\n",
      "0.036067,0.195801,0.768132\n",
      "0.036067,0.195800,0.768133\n",
      "0.036067,0.195800,0.768133\n",
      "0.036067,0.195799,0.768133\n",
      "0.036067,0.195799,0.768134\n",
      "0.036067,0.195799,0.768134\n",
      "0.036067,0.195799,0.768134\n",
      "0.036067,0.195799,0.768134\n",
      "0.036067,0.195799,0.768134\n",
      "0.036067,0.195799,0.768134\n",
      "0.036067,0.195799,0.768134\n",
      "0.036067,0.195799,0.768134\n",
      "0.036067,0.195799,0.768134\n",
      "0.036067,0.195799,0.768134\n",
      "0.036067,0.195799,0.768134\n",
      "0.036067,0.195799,0.768134\n",
      "0.036067,0.195799,0.768134\n",
      "0.036067,0.195799,0.768134\n",
      "0.036067,0.195799,0.768134\n",
      "------Iteration Ends Successfully--------\n",
      "[0.03606708 0.19579915 0.76813377]\n"
     ]
    }
   ],
   "source": [
    "# Load the data\n",
    "N = np.array([85,196,341,578], dtype = 'float64')\n",
    "p0 = np.array([1/3,1/3,1/3], dtype = 'float64')\n",
    "\n",
    "# Find the MLE of p\n",
    "print(EM_reduced(p0, N, 10**-10))"
   ]
  },
  {
   "cell_type": "code",
   "execution_count": null,
   "metadata": {},
   "outputs": [],
   "source": []
  }
 ],
 "metadata": {
  "kernelspec": {
   "display_name": "Python 3",
   "language": "python",
   "name": "python3"
  },
  "language_info": {
   "codemirror_mode": {
    "name": "ipython",
    "version": 3
   },
   "file_extension": ".py",
   "mimetype": "text/x-python",
   "name": "python",
   "nbconvert_exporter": "python",
   "pygments_lexer": "ipython3",
   "version": "3.7.4"
  }
 },
 "nbformat": 4,
 "nbformat_minor": 5
}
