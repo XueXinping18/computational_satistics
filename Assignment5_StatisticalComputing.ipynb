{
 "cells": [
  {
   "cell_type": "code",
   "execution_count": 29,
   "id": "d76f447f",
   "metadata": {},
   "outputs": [],
   "source": [
    "import numpy as np\n",
    "from matplotlib import pyplot as plt\n",
    "import pandas as pd"
   ]
  },
  {
   "cell_type": "markdown",
   "id": "3c4d4449",
   "metadata": {},
   "source": [
    "## Question 3"
   ]
  },
  {
   "cell_type": "code",
   "execution_count": 3,
   "id": "0ea0374b",
   "metadata": {},
   "outputs": [],
   "source": [
    "def Riemann1(f, a, b, n):\n",
    "    f = np.vectorize(f)\n",
    "    h = (b - a)/n\n",
    "    x = np.arange(a, b, h)\n",
    "    return h*np.sum(f(x))\n",
    "\n",
    "def Riemann2(f, a, b, n):\n",
    "    f = np.vectorize(f)\n",
    "    h = (b - a)/n\n",
    "    x = np.arange(a+h/2, b, h)\n",
    "    return h*np.sum(f(x))\n",
    "\n",
    "def Trapezoidal(f, a, b, n):\n",
    "    f = np.vectorize(f)\n",
    "    x = np.linspace(a, b, n+1)\n",
    "    h = (b-a)/n\n",
    "    return h*np.sum(f(x)) - h/2*(f(x[0])+f(x[n]))\n",
    "\n",
    "def Simpson(f, a, b, n):\n",
    "    f = np.vectorize(f)\n",
    "    h = (b-a)/n\n",
    "    x1 = np.linspace(a, b, n+1)\n",
    "    x2 = np.arange(a+h/2, b, h)\n",
    "    return h/3*np.sum(f(x1)) + 2*h/3*np.sum(f(x2)) - h/6*(f(x1[0])+f(x1[n]))\n"
   ]
  },
  {
   "cell_type": "code",
   "execution_count": 4,
   "id": "a424e891",
   "metadata": {},
   "outputs": [
    {
     "name": "stdout",
     "output_type": "stream",
     "text": [
      "The true value is 1.098612288668\n"
     ]
    }
   ],
   "source": [
    "g = lambda x: 1/x\n",
    "\n",
    "# Calculate the true value\n",
    "TrueValue = np.log(3) - np.log(1)\n",
    "print('The true value is %.12f' %TrueValue)"
   ]
  },
  {
   "cell_type": "code",
   "execution_count": 5,
   "id": "29aa0397",
   "metadata": {},
   "outputs": [],
   "source": [
    "# For convenience of printing both approximation and absolute Error\n",
    "def MyPrint(x):\n",
    "    print(x, '    ',TrueValue-x)"
   ]
  },
  {
   "cell_type": "code",
   "execution_count": 6,
   "id": "d3a177ce",
   "metadata": {},
   "outputs": [
    {
     "name": "stdout",
     "output_type": "stream",
     "text": [
      "-----Riemann_{1,n} rule-----\n",
      "---Approximation-----------AbsoluteError---- \n",
      "1.2833333333333332      -0.18472104466522343\n",
      "1.1865440115440116      -0.08793172287590179\n",
      "1.1414343682296972      -0.042822079561587456\n",
      "1.1197348485017924      -0.021122559833682608\n",
      "1.1091012854522548      -0.010488996784145055\n"
     ]
    }
   ],
   "source": [
    "# Using R_{1,n} rule\n",
    "print('-----Riemann_{1,n} rule-----')\n",
    "print('---Approximation-----------AbsoluteError---- ')\n",
    "MyPrint(Riemann1(g, 1, 3, 4) )\n",
    "MyPrint(Riemann1(g, 1, 3, 8))\n",
    "MyPrint(Riemann1(g, 1, 3, 16))\n",
    "MyPrint(Riemann1(g, 1, 3, 32))\n",
    "MyPrint(Riemann1(g, 1, 3, 64))"
   ]
  },
  {
   "cell_type": "code",
   "execution_count": 7,
   "id": "ed0399cf",
   "metadata": {},
   "outputs": [
    {
     "name": "stdout",
     "output_type": "stream",
     "text": [
      "-----Riemann_{2,n} rule-----\n",
      "---Approximation-----------AbsoluteError---- \n",
      "1.0897546897546897      0.008857598913420084\n",
      "1.0963247249153831      0.0022875637527266512\n",
      "1.0980353287738873      0.0005769598942224619\n",
      "1.0984677224027173      0.0001445662653924984\n",
      "1.0985761265510816      3.616211702817118e-05\n"
     ]
    }
   ],
   "source": [
    "# Using R_{2,n} rule\n",
    "print('-----Riemann_{2,n} rule-----')\n",
    "print('---Approximation-----------AbsoluteError---- ')\n",
    "MyPrint(Riemann2(g, 1, 3, 4))\n",
    "MyPrint(Riemann2(g, 1, 3, 8))\n",
    "MyPrint(Riemann2(g, 1, 3, 16))\n",
    "MyPrint(Riemann2(g, 1, 3, 32))\n",
    "MyPrint(Riemann2(g, 1, 3, 64))"
   ]
  },
  {
   "cell_type": "code",
   "execution_count": 8,
   "id": "592fcaa6",
   "metadata": {},
   "outputs": [
    {
     "name": "stdout",
     "output_type": "stream",
     "text": [
      "-----Trapezoidal rule-----\n",
      "---Approximation-----------AbsoluteError---- \n",
      "1.1166666666666667      -0.018054377998556914\n",
      "1.103210678210678      -0.004598389542568304\n",
      "1.0997677015630307      -0.0011554128949209375\n",
      "1.098901515168459      -0.0002892265003491268\n",
      "1.0986846187855883      -7.233011747853624e-05\n"
     ]
    }
   ],
   "source": [
    "# Using Trapezoidal rule\n",
    "print('-----Trapezoidal rule-----')\n",
    "print('---Approximation-----------AbsoluteError---- ')\n",
    "MyPrint(Trapezoidal(g, 1, 3, 4))\n",
    "MyPrint(Trapezoidal(g, 1, 3, 8))\n",
    "MyPrint(Trapezoidal(g, 1, 3, 16))\n",
    "MyPrint(Trapezoidal(g, 1, 3, 32))\n",
    "MyPrint(Trapezoidal(g, 1, 3, 64))"
   ]
  },
  {
   "cell_type": "code",
   "execution_count": 9,
   "id": "21d6f466",
   "metadata": {},
   "outputs": [
    {
     "name": "stdout",
     "output_type": "stream",
     "text": [
      "-----Simpson's rule-----\n",
      "---Approximation-----------AbsoluteError---- \n",
      "1.0987253487253485      -0.00011306005723876744\n",
      "1.0986200426804815      -7.754012371741226e-06\n",
      "1.0986127863702686      -4.977021588192798e-07\n",
      "1.0986123199912978      -3.1323188043330674e-08\n",
      "1.0986122906292504      -1.961140583262022e-09\n"
     ]
    }
   ],
   "source": [
    "# Using Simpson's rule\n",
    "print('-----Simpson\\'s rule-----')\n",
    "print('---Approximation-----------AbsoluteError---- ')\n",
    "MyPrint(Simpson(g, 1, 3, 4))\n",
    "MyPrint(Simpson(g, 1, 3, 8))\n",
    "MyPrint(Simpson(g, 1, 3, 16))\n",
    "MyPrint(Simpson(g, 1, 3, 32))\n",
    "MyPrint(Simpson(g, 1, 3, 64))"
   ]
  },
  {
   "cell_type": "markdown",
   "id": "3ee0ca81",
   "metadata": {},
   "source": [
    "Discussion: <br>\n",
    "We can clearly see from the above result that, every time N doubles, the approximation error using R1 rule reduces by about half of its original value. Every time N doubles, the approximation error using R2 or trapezoidal rule reduces to approximately 1/4 of its original value. Every time N doubles, the approximation error using Simpson's rule reduces to approximately 1/16 of its original value. These results are consistent with the theory that R1 rule has O(1/n) error, R2 and trapezoidal rule has O(1/n^2) error, and Simpson's rule has O(1/n^4) error. <br>\n",
    "The result also indicates that we should prefer Simpson's Rule to other 3 rules given the same amount of calculation. "
   ]
  },
  {
   "cell_type": "markdown",
   "id": "792b0b85",
   "metadata": {},
   "source": [
    "## Question 4"
   ]
  },
  {
   "cell_type": "markdown",
   "id": "c171ba5c",
   "metadata": {},
   "source": [
    "### a)"
   ]
  },
  {
   "cell_type": "code",
   "execution_count": 15,
   "id": "f61f9299",
   "metadata": {},
   "outputs": [],
   "source": [
    "# Density function of Cauchy(5,2)\n",
    "f_cauchy = lambda x: 1/(2*np.pi*(1+((x-5)/2)**2))\n",
    "# Loading data\n",
    "X = np.array([6.52, 8.32, 0.31, 2.82, 9.96, 0.14, 9.64])\n",
    "X_bar = X.mean()\n",
    "\n",
    "# Likelihood function\n",
    "L = lambda mu: np.sqrt(7/(18*np.pi))*np.exp(-7/18*(X_bar-mu)**2) \n",
    "\n",
    "# Integrant: Prior * likelihood\n",
    "Integrant = lambda mu: L(mu)*f_cauchy(mu)"
   ]
  },
  {
   "cell_type": "markdown",
   "id": "d21df24f",
   "metadata": {},
   "source": [
    "Given the distribution function is nonnegative and convergent. Ignoring the tails will only underestimate the integration by limited value. We choose [a,b] to the extent that the first five digits of the proportionality constant k is correct."
   ]
  },
  {
   "cell_type": "code",
   "execution_count": 16,
   "id": "a57b6037",
   "metadata": {},
   "outputs": [],
   "source": [
    "# Using simpson's rule\n",
    "def K_Calculator(a, b, N):\n",
    "    ''' [a,b] is the interval on which we do integral for approximation of the improper integral\n",
    "        We calculate K using Simpson's method. N is the number of intervals.\n",
    "    '''\n",
    "    Integ = Simpson(Integrant, a, b, N)\n",
    "    k = 1/Integ\n",
    "    print('Integral is %f, corresponding k is %f' %(Integ, k))\n",
    "    return k"
   ]
  },
  {
   "cell_type": "code",
   "execution_count": 22,
   "id": "4a4ea9a4",
   "metadata": {},
   "outputs": [
    {
     "name": "stdout",
     "output_type": "stream",
     "text": [
      "Integral is 0.127445, corresponding k is 7.846538\n",
      "7.846537745548109\n",
      "Integral is 0.127445, corresponding k is 7.846538\n",
      "7.846537745555541\n"
     ]
    }
   ],
   "source": [
    "print(K_Calculator(-100,100,100000))\n",
    "print(K_Calculator(-1000,1000,100000))"
   ]
  },
  {
   "cell_type": "markdown",
   "id": "310d90fa",
   "metadata": {},
   "source": [
    "We can see from the above result that as the [a,b] -> (-inf, inf), the first five digits remain the same. i.e. k is roughly 7.84654"
   ]
  },
  {
   "cell_type": "markdown",
   "id": "56bb98bd",
   "metadata": {},
   "source": [
    "### b)"
   ]
  },
  {
   "cell_type": "code",
   "execution_count": 24,
   "id": "af3e647b",
   "metadata": {},
   "outputs": [],
   "source": [
    "k = 7.84654\n",
    "posterior = lambda mu: k*Integrant(mu)"
   ]
  },
  {
   "cell_type": "code",
   "execution_count": 46,
   "id": "4db4067c",
   "metadata": {},
   "outputs": [],
   "source": [
    "# Table generator\n",
    "def TableMaker(f, a, b, N, method):\n",
    "    ''' \n",
    "        f : the function of which we take integration\n",
    "        [a,b] : the interval on which we take integration\n",
    "        N: the highest level of number of intervals (Note: the lowest level is 4 by default)\n",
    "        method: \"R1\", \"R2\", \"T\", \"S\" Represents the rule by which we take numerical integration\n",
    "    '''\n",
    "    n = np.log2(N)\n",
    "    \n",
    "    # Decide the Rule we use\n",
    "    if method == 'R1':\n",
    "        Rule = Riemann1\n",
    "    elif method == 'R2':\n",
    "        Rule = Riemann2\n",
    "    elif method == 'T':\n",
    "        Rule = Trapezoidal\n",
    "    elif method == 'S':\n",
    "        Rule = Simpson\n",
    "    \n",
    "    \n",
    "    # Estimation and Error calculation\n",
    "    NumberList = []\n",
    "    EstimateList = []\n",
    "    ErrorList = []\n",
    "    last_estimate = None\n",
    "    \n",
    "    for i in np.arange(2,n+1):\n",
    "        NumberList.append(np.int64(2**i))\n",
    "        \n",
    "        Estimate = Rule(f,a,b,np.int64(2**i))\n",
    "        EstimateList.append(Estimate)\n",
    "        \n",
    "        if last_estimate == None:\n",
    "            ErrorList.append(np.nan)\n",
    "        else:\n",
    "            RelativeError = np.abs(Estimate - last_estimate)/last_estimate\n",
    "            ErrorList.append(RelativeError)\n",
    "        last_estimate = Estimate\n",
    "    \n",
    "    # Using Data frame to print the result\n",
    "    \n",
    "    Table = pd.DataFrame(data = {'Number of Intervals': NumberList, 'Estimation with ' + method + ' Rule': EstimateList, \n",
    "                                 'Relative Error with ' + method + ' Rule': ErrorList})\n",
    "    Table = Table.set_index('Number of Intervals', drop = True)\n",
    "    return Table"
   ]
  },
  {
   "cell_type": "code",
   "execution_count": 47,
   "id": "68bdd1f0",
   "metadata": {},
   "outputs": [
    {
     "data": {
      "text/html": [
       "<div>\n",
       "<style scoped>\n",
       "    .dataframe tbody tr th:only-of-type {\n",
       "        vertical-align: middle;\n",
       "    }\n",
       "\n",
       "    .dataframe tbody tr th {\n",
       "        vertical-align: top;\n",
       "    }\n",
       "\n",
       "    .dataframe thead th {\n",
       "        text-align: right;\n",
       "    }\n",
       "</style>\n",
       "<table border=\"1\" class=\"dataframe\">\n",
       "  <thead>\n",
       "    <tr style=\"text-align: right;\">\n",
       "      <th></th>\n",
       "      <th>Estimation with R1 Rule</th>\n",
       "      <th>Relative Error with R1 Rule</th>\n",
       "      <th>Estimation with R2 Rule</th>\n",
       "      <th>Relative Error with R2 Rule</th>\n",
       "      <th>Estimation with T Rule</th>\n",
       "      <th>Relative Error with T Rule</th>\n",
       "      <th>Estimation with S Rule</th>\n",
       "      <th>Relative Error with S Rule</th>\n",
       "    </tr>\n",
       "    <tr>\n",
       "      <th>Number of Intervals</th>\n",
       "      <th></th>\n",
       "      <th></th>\n",
       "      <th></th>\n",
       "      <th></th>\n",
       "      <th></th>\n",
       "      <th></th>\n",
       "      <th></th>\n",
       "      <th></th>\n",
       "    </tr>\n",
       "  </thead>\n",
       "  <tbody>\n",
       "    <tr>\n",
       "      <th>4</th>\n",
       "      <td>0.990261</td>\n",
       "      <td>NaN</td>\n",
       "      <td>0.993332</td>\n",
       "      <td>NaN</td>\n",
       "      <td>0.996219</td>\n",
       "      <td>NaN</td>\n",
       "      <td>0.994294</td>\n",
       "      <td>NaN</td>\n",
       "    </tr>\n",
       "    <tr>\n",
       "      <th>8</th>\n",
       "      <td>0.991796</td>\n",
       "      <td>0.001551</td>\n",
       "      <td>0.996673</td>\n",
       "      <td>0.003363</td>\n",
       "      <td>0.994775</td>\n",
       "      <td>0.001449</td>\n",
       "      <td>0.996040</td>\n",
       "      <td>1.756217e-03</td>\n",
       "    </tr>\n",
       "    <tr>\n",
       "      <th>16</th>\n",
       "      <td>0.994234</td>\n",
       "      <td>0.002458</td>\n",
       "      <td>0.996219</td>\n",
       "      <td>0.000455</td>\n",
       "      <td>0.995724</td>\n",
       "      <td>0.000954</td>\n",
       "      <td>0.996054</td>\n",
       "      <td>1.365704e-05</td>\n",
       "    </tr>\n",
       "    <tr>\n",
       "      <th>32</th>\n",
       "      <td>0.995227</td>\n",
       "      <td>0.000998</td>\n",
       "      <td>0.996096</td>\n",
       "      <td>0.000123</td>\n",
       "      <td>0.995971</td>\n",
       "      <td>0.000248</td>\n",
       "      <td>0.996055</td>\n",
       "      <td>8.481576e-07</td>\n",
       "    </tr>\n",
       "    <tr>\n",
       "      <th>64</th>\n",
       "      <td>0.995661</td>\n",
       "      <td>0.000437</td>\n",
       "      <td>0.996065</td>\n",
       "      <td>0.000031</td>\n",
       "      <td>0.996034</td>\n",
       "      <td>0.000063</td>\n",
       "      <td>0.996055</td>\n",
       "      <td>5.324736e-08</td>\n",
       "    </tr>\n",
       "    <tr>\n",
       "      <th>128</th>\n",
       "      <td>0.995863</td>\n",
       "      <td>0.000203</td>\n",
       "      <td>0.996057</td>\n",
       "      <td>0.000008</td>\n",
       "      <td>0.996049</td>\n",
       "      <td>0.000016</td>\n",
       "      <td>0.996055</td>\n",
       "      <td>3.331552e-09</td>\n",
       "    </tr>\n",
       "    <tr>\n",
       "      <th>256</th>\n",
       "      <td>0.995960</td>\n",
       "      <td>0.000097</td>\n",
       "      <td>0.996055</td>\n",
       "      <td>0.000002</td>\n",
       "      <td>0.996053</td>\n",
       "      <td>0.000004</td>\n",
       "      <td>0.996055</td>\n",
       "      <td>2.082776e-10</td>\n",
       "    </tr>\n",
       "  </tbody>\n",
       "</table>\n",
       "</div>"
      ],
      "text/plain": [
       "                     Estimation with R1 Rule  Relative Error with R1 Rule  \\\n",
       "Number of Intervals                                                         \n",
       "4                                   0.990261                          NaN   \n",
       "8                                   0.991796                     0.001551   \n",
       "16                                  0.994234                     0.002458   \n",
       "32                                  0.995227                     0.000998   \n",
       "64                                  0.995661                     0.000437   \n",
       "128                                 0.995863                     0.000203   \n",
       "256                                 0.995960                     0.000097   \n",
       "\n",
       "                     Estimation with R2 Rule  Relative Error with R2 Rule  \\\n",
       "Number of Intervals                                                         \n",
       "4                                   0.993332                          NaN   \n",
       "8                                   0.996673                     0.003363   \n",
       "16                                  0.996219                     0.000455   \n",
       "32                                  0.996096                     0.000123   \n",
       "64                                  0.996065                     0.000031   \n",
       "128                                 0.996057                     0.000008   \n",
       "256                                 0.996055                     0.000002   \n",
       "\n",
       "                     Estimation with T Rule  Relative Error with T Rule  \\\n",
       "Number of Intervals                                                       \n",
       "4                                  0.996219                         NaN   \n",
       "8                                  0.994775                    0.001449   \n",
       "16                                 0.995724                    0.000954   \n",
       "32                                 0.995971                    0.000248   \n",
       "64                                 0.996034                    0.000063   \n",
       "128                                0.996049                    0.000016   \n",
       "256                                0.996053                    0.000004   \n",
       "\n",
       "                     Estimation with S Rule  Relative Error with S Rule  \n",
       "Number of Intervals                                                      \n",
       "4                                  0.994294                         NaN  \n",
       "8                                  0.996040                1.756217e-03  \n",
       "16                                 0.996054                1.365704e-05  \n",
       "32                                 0.996055                8.481576e-07  \n",
       "64                                 0.996055                5.324736e-08  \n",
       "128                                0.996055                3.331552e-09  \n",
       "256                                0.996055                2.082776e-10  "
      ]
     },
     "execution_count": 47,
     "metadata": {},
     "output_type": "execute_result"
    }
   ],
   "source": [
    "pd.concat([TableMaker(posterior, 2, 8, 256, 'R1'),TableMaker(posterior, 2, 8, 256, 'R2'),\n",
    "           TableMaker(posterior, 2, 8, 256, 'T'),TableMaker(posterior, 2, 8, 256, 'S')], axis = 1)\n",
    "# Note 0.000097 is smaller than 0.0001"
   ]
  },
  {
   "cell_type": "markdown",
   "id": "561fa867",
   "metadata": {},
   "source": [
    "## c)"
   ]
  },
  {
   "cell_type": "code",
   "execution_count": 58,
   "id": "143c0753",
   "metadata": {},
   "outputs": [],
   "source": [
    "# New Transformed posterior funcition\n",
    "TransPosterior = lambda x: 1/x**2*posterior(1/x)"
   ]
  },
  {
   "cell_type": "code",
   "execution_count": 59,
   "id": "b0b3ebd8",
   "metadata": {},
   "outputs": [
    {
     "name": "stdout",
     "output_type": "stream",
     "text": [
      "0.9908594766004627\n",
      "0.9908594766004627\n",
      "0.9908594766004627\n"
     ]
    }
   ],
   "source": [
    "# Calculate the posterior probability for u in [0, 1/3], replacing 0 with 10**-k where k = 10, 12, 14...\n",
    "print(Simpson(TransPosterior, 10**-10, 1/3, 100000))\n",
    "print(Simpson(TransPosterior, 10**-12, 1/3, 100000))\n",
    "print(Simpson(TransPosterior, 10**-14, 1/3, 100000))"
   ]
  },
  {
   "cell_type": "markdown",
   "id": "88cb8959",
   "metadata": {},
   "source": [
    "The result is approximately 0.99086"
   ]
  },
  {
   "cell_type": "code",
   "execution_count": null,
   "id": "ae71c939",
   "metadata": {},
   "outputs": [],
   "source": []
  }
 ],
 "metadata": {
  "kernelspec": {
   "display_name": "Python 3",
   "language": "python",
   "name": "python3"
  },
  "language_info": {
   "codemirror_mode": {
    "name": "ipython",
    "version": 3
   },
   "file_extension": ".py",
   "mimetype": "text/x-python",
   "name": "python",
   "nbconvert_exporter": "python",
   "pygments_lexer": "ipython3",
   "version": "3.9.5"
  }
 },
 "nbformat": 4,
 "nbformat_minor": 5
}
