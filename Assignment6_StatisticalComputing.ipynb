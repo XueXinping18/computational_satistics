{
 "cells": [
  {
   "cell_type": "code",
   "execution_count": 6,
   "id": "391136d4",
   "metadata": {},
   "outputs": [],
   "source": [
    "import numpy as np\n",
    "from matplotlib import pyplot as plt"
   ]
  },
  {
   "cell_type": "code",
   "execution_count": 35,
   "id": "0546528b",
   "metadata": {},
   "outputs": [
    {
     "name": "stdout",
     "output_type": "stream",
     "text": [
      "[0 1 1 1 3 2 1 1 1 1 0 2 1 2 0 2 0 0 0 2 5 1 0 2 1 0 1 2 3 1 2 2 0 0 0 2 1\n",
      " 2 0 0 0 2 0 1 1 0 3 1 0 2 1 0 0 1 1 2 3 0 0 0 2 3 1 0 1 2 1 1 0 2 2 1 2 2\n",
      " 2 2 0 4 4 0 1 0 1 2 0 1 1 1 0 1 0 1 3 1 1 3 0 0 2 0 2 2 2 0 1 0 0 0 1 0 2\n",
      " 1 1 1 1 0 1 0 0 2 0 1 2 0 0 2 1 0 1 0 0 0 0 0 0 1 0 2 1 0 0 1 0 2 2 0 2 0\n",
      " 1 2 1 0 0 1 1 1 2 0 1 2 1 0 1 1 1 1 1 1 0 1 1 4 1 0 1 2 0 1 2 1 1 1 2 1 1\n",
      " 0 1 3 0 1 0 1 0 3 1 1 0 0 0 4 1 1 0 1 0 0 1 0 1 1 1 1 1 1 0 1 4 2 1 1 0 0\n",
      " 0 3 1 3 3 1 0 0 1 1 0 1 0 2 2 0 0 1 0 3 1 1 1 3 1 0 1 1 0 0 1 1 2 0 0 0 1\n",
      " 0 1 1 1 0 0 1 0 0 1 1 1 1 3 1 0 0 1 1 2 0 2 2 0 2 0 1 2 1 0 1 3 0 1 0 0 2\n",
      " 2 1 1 2 1 0 1 1 0 2 0 1 0 1 1 1 1 0 0 1 1 0 3 1 0 1 1 2 2 0 1 1 1 1 1 1 0\n",
      " 2 1 3 0 2 1 0 2 2 1 1 0 0 0 0 1 0 1 1 0 0 3 1 0 0 3 0 2 1 1 0 0 2 1 1 0 0\n",
      " 0 2 2 3 0 0 1 2 0 0 0 2 2 1 1 1 1 1 1 0 0 2 1 2 0 0 0 0 0 0 1 1 1 2 1 0 0\n",
      " 2 0 0 0 2 1 0 1 3 1 0 1 0 2 2 3 3 1 0 1 1 1 0 3 1 0 1 0 0 1 1 0 4 0 0 1 2\n",
      " 0 1 0 0 1 2 2 0 1 0 0 1 1 0 0 0 2 1 3 1 3 2 0 1 2 0 3 0 0 1 0 1 3 6 1 1 1\n",
      " 1 0 0 3 1 4 1 3 0 0 0 3 0 3 0 2 0 0 0]\n"
     ]
    }
   ],
   "source": [
    "def permutation(N, nreps):\n",
    "    result = []\n",
    "    for rep in range(nreps):\n",
    "        # Initialize the permutation\n",
    "        permut = np.arange(1,N+1)\n",
    "        # Create a permutation using matlab style index\n",
    "        for k in np.arange(N,0,-1):\n",
    "            u = np.random.random()\n",
    "            i = 1 + int(k*u)\n",
    "            (permut[i-1], permut[k-1]) = (permut[k-1], permut[i-1])\n",
    "        result.append(permut)\n",
    "    return result\n",
    "\n",
    "def hits(permut):\n",
    "    total = 0\n",
    "    for i in range(len(permut)):\n",
    "        if permut[i] == i+1:\n",
    "            total += 1\n",
    "    return total\n",
    "\n",
    "# Create 500 permutations on 1,2, ..., 100\n",
    "Permuts = permutation(100, 500)\n",
    "# Calculate the number of hits for each permutation and collect them into an ndarraay \n",
    "Hits = np.array(list(map(hits, Permuts)))\n",
    "print(Hits)\n",
    "    \n"
   ]
  },
  {
   "cell_type": "code",
   "execution_count": 36,
   "id": "d1135288",
   "metadata": {},
   "outputs": [
    {
     "data": {
      "text/plain": [
       "0.982"
      ]
     },
     "execution_count": 36,
     "metadata": {},
     "output_type": "execute_result"
    }
   ],
   "source": [
    "# Estimate the mean and variance\n",
    "Hits.mean()"
   ]
  },
  {
   "cell_type": "code",
   "execution_count": 37,
   "id": "bdca705e",
   "metadata": {},
   "outputs": [
    {
     "data": {
      "text/plain": [
       "1.007691382765531"
      ]
     },
     "execution_count": 37,
     "metadata": {},
     "output_type": "execute_result"
    }
   ],
   "source": [
    "# Estimate the variance using sample variance formula\n",
    "Hits.var(ddof = 1)  # Dropping one degree of freedom"
   ]
  }
 ],
 "metadata": {
  "kernelspec": {
   "display_name": "Python 3",
   "language": "python",
   "name": "python3"
  },
  "language_info": {
   "codemirror_mode": {
    "name": "ipython",
    "version": 3
   },
   "file_extension": ".py",
   "mimetype": "text/x-python",
   "name": "python",
   "nbconvert_exporter": "python",
   "pygments_lexer": "ipython3",
   "version": "3.9.5"
  }
 },
 "nbformat": 4,
 "nbformat_minor": 5
}
