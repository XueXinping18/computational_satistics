{
 "cells": [
  {
   "cell_type": "markdown",
   "id": "3dfaec0a",
   "metadata": {},
   "source": [
    "## Question 8"
   ]
  },
  {
   "cell_type": "code",
   "execution_count": 130,
   "id": "21094be3",
   "metadata": {},
   "outputs": [],
   "source": [
    "import numpy as np\n",
    "import matplotlib.pyplot as plt"
   ]
  },
  {
   "cell_type": "code",
   "execution_count": 5,
   "id": "a5e5a898",
   "metadata": {},
   "outputs": [],
   "source": [
    "# Normal random variable generator\n",
    "def NormalGenerator(mean, scale):\n",
    "    while True:\n",
    "        u1 = np.random.random()\n",
    "        u2 = np.random.random()\n",
    "        tmp1 = np.sqrt(-2*np.log(u1))\n",
    "        tmp2 = 2*np.pi*u2\n",
    "        yield tmp1*np.cos(tmp2)*scale + mean\n",
    "        yield tmp1*np.sin(tmp2)*scale + mean"
   ]
  },
  {
   "cell_type": "code",
   "execution_count": 6,
   "id": "3d9f4268",
   "metadata": {},
   "outputs": [],
   "source": [
    "# importance sampling: Calculate E(h(X)) under f(.) measure by E(h(X)w(X)) under q(.) measure\n",
    "\n",
    "def PI_hat_2(h, w , RNG, sampleSize, nrepeats = None):\n",
    "    ''' h(x) is the function whose expectation is to be calculated\n",
    "        w(x) is the Ragon-Nikedym Derivative f(.)/q(.) or its multipilication \n",
    "        RNG is the random number generator for q(.)\n",
    "    '''\n",
    "    def SingleTrial(h, w , RNG, sampleSize):\n",
    "        RandomNumbers = np.array([next(RNG) for i in range(sampleSize)])\n",
    "        tmp = w(RandomNumbers)\n",
    "        return np.sum(h(RandomNumbers) * tmp)/np.sum(tmp)\n",
    "    if nrepeats == None:\n",
    "        return SingleTrial(h, w , RNG, sampleSize)\n",
    "    else:\n",
    "        resultArray = np.array([SingleTrial(h, w , RNG, sampleSize) for i in range(nrepeats)])\n",
    "        return resultArray"
   ]
  },
  {
   "cell_type": "code",
   "execution_count": 64,
   "id": "f7e6027c",
   "metadata": {},
   "outputs": [],
   "source": [
    "# Load the arguments\n",
    "m = 10000\n",
    "h = lambda x: x**5/(1+(x-3)**2)\n",
    "w1 = lambda x: np.exp(-x**2/8+x**2/2)\n",
    "w2 = lambda x: x-x+1  # Implementation Note: We use x-x+1 is to make sure the result is still an array with the same shape with x\n",
    "w3 = lambda x : np.exp(-x**2/8+x**2/18)\n",
    "N01 = NormalGenerator(0,1)\n",
    "N04 = NormalGenerator(0,2)\n",
    "N09 = NormalGenerator(0,3)"
   ]
  },
  {
   "cell_type": "code",
   "execution_count": 65,
   "id": "86a71648",
   "metadata": {},
   "outputs": [
    {
     "data": {
      "text/plain": [
       "19.750497849659528"
      ]
     },
     "execution_count": 65,
     "metadata": {},
     "output_type": "execute_result"
    }
   ],
   "source": [
    "# using q1(x)\n",
    "PI_hat_2(h,w1,N01,m)"
   ]
  },
  {
   "cell_type": "code",
   "execution_count": 66,
   "id": "d3f52f84",
   "metadata": {},
   "outputs": [
    {
     "data": {
      "text/plain": [
       "36.87755481844184"
      ]
     },
     "execution_count": 66,
     "metadata": {},
     "output_type": "execute_result"
    }
   ],
   "source": [
    "# using q2(x)\n",
    "PI_hat_2(h,w2,N04,m)"
   ]
  },
  {
   "cell_type": "code",
   "execution_count": 67,
   "id": "9073b063",
   "metadata": {},
   "outputs": [
    {
     "data": {
      "text/plain": [
       "36.60767208415858"
      ]
     },
     "execution_count": 67,
     "metadata": {},
     "output_type": "execute_result"
    }
   ],
   "source": [
    "# using q3(x)\n",
    "PI_hat_2(h,w3,N09,m)"
   ]
  },
  {
   "cell_type": "code",
   "execution_count": 72,
   "id": "296adbdf",
   "metadata": {},
   "outputs": [
    {
     "name": "stdout",
     "output_type": "stream",
     "text": [
      "Sample Mean is 31.77333092053756\n",
      "Sample Variance is 205.249498989962\n"
     ]
    }
   ],
   "source": [
    "# Repeated Sampling\n",
    "\n",
    "# N(0,1)\n",
    "ResultList = PI_hat_2(h,w1,N01,m, nrepeats = 100)\n",
    "print('Sample Mean is ' +  str(ResultList.mean()))\n",
    "print('Sample Variance is ' +  str(ResultList.var()))"
   ]
  },
  {
   "cell_type": "code",
   "execution_count": 70,
   "id": "a8f61a03",
   "metadata": {},
   "outputs": [
    {
     "name": "stdout",
     "output_type": "stream",
     "text": [
      "Sample Mean is 36.99934752374407\n",
      "Sample Variance is 1.645307424703538\n"
     ]
    }
   ],
   "source": [
    "# N(0,4)\n",
    "ResultList = PI_hat_2(h,w2,N04,m, nrepeats = 100)\n",
    "print('Sample Mean is ' +  str(ResultList.mean()))\n",
    "print('Sample Variance is ' +  str(ResultList.var()))"
   ]
  },
  {
   "cell_type": "code",
   "execution_count": 73,
   "id": "c738344d",
   "metadata": {},
   "outputs": [
    {
     "name": "stdout",
     "output_type": "stream",
     "text": [
      "Sample Mean is 37.17974769785113\n",
      "Sample Variance is 0.6992282504273193\n"
     ]
    }
   ],
   "source": [
    "# N(0,9)\n",
    "ResultList = PI_hat_2(h,w3,N09,m, nrepeats = 100)\n",
    "print('Sample Mean is ' +  str(ResultList.mean()))\n",
    "print('Sample Variance is ' +  str(ResultList.var()))"
   ]
  },
  {
   "cell_type": "markdown",
   "id": "11b19ee6",
   "metadata": {},
   "source": [
    "## Question 9"
   ]
  },
  {
   "cell_type": "markdown",
   "id": "60c0d972",
   "metadata": {},
   "source": [
    "### a)"
   ]
  },
  {
   "cell_type": "code",
   "execution_count": 77,
   "id": "8f377945",
   "metadata": {},
   "outputs": [
    {
     "data": {
      "text/plain": [
       "22"
      ]
     },
     "execution_count": 77,
     "metadata": {},
     "output_type": "execute_result"
    }
   ],
   "source": [
    "# Use the generator we defined in Question 8\n",
    "N01 = NormalGenerator(0,1)\n",
    "NormalRandomNumbers = np.array([next(N01) for i in range(1000000)])\n",
    "(NormalRandomNumbers>4).sum()"
   ]
  },
  {
   "cell_type": "markdown",
   "id": "65f38638",
   "metadata": {},
   "source": [
    "1 million samples lead to only 22 numbers, the probability is too small to accurately estimate it directly. We thereby use a trial distribution as TwoSidedExponential(4) to use importance sampling method. ( To make it a heavier tail) "
   ]
  },
  {
   "cell_type": "code",
   "execution_count": 151,
   "id": "34b61730",
   "metadata": {},
   "outputs": [],
   "source": [
    "def ExponentialGenerator(beta):\n",
    "    while True:\n",
    "        u1 = np.random.random()\n",
    "        yield -beta*np.log(u1)\n",
    "def TwoSidedExponentialGenerator(beta):\n",
    "    while True:\n",
    "        u1 = np.random.random()\n",
    "        AbsResult = -beta*np.log(u1)\n",
    "        u2 = np.random.random()\n",
    "        if u2<0.5:\n",
    "            yield AbsResult\n",
    "        else:\n",
    "            yield -AbsResult"
   ]
  },
  {
   "cell_type": "code",
   "execution_count": 163,
   "id": "3ba22c76",
   "metadata": {},
   "outputs": [
    {
     "name": "stdout",
     "output_type": "stream",
     "text": [
      "3.161904683420398e-05\n"
     ]
    }
   ],
   "source": [
    "# Using PI_2 Estimator\n",
    "\n",
    "beta = 4\n",
    "h1 = np.vectorize(lambda x: 1 if x> 4 else 0)\n",
    "w = lambda x: np.exp(abs(x)/beta-x**2/2)\n",
    "my_estimate_for_p_larger_than_4 = PI_hat_2(h1, w, TwoSidedExponentialGenerator(beta), 1000000)\n",
    "print(my_estimate_for_p_larger_than_4)"
   ]
  },
  {
   "cell_type": "markdown",
   "id": "162807d8",
   "metadata": {},
   "source": [
    "### b) We use trial random variable X where *X-4~ Exponential(1)*"
   ]
  },
  {
   "cell_type": "code",
   "execution_count": 124,
   "id": "9c3882bf",
   "metadata": {},
   "outputs": [],
   "source": [
    "# The trial variable generator\n",
    "def ExponentialGenerator_plus4():\n",
    "    while True:\n",
    "        u1 = np.random.random()\n",
    "        yield -np.log(u1) + 4"
   ]
  },
  {
   "cell_type": "code",
   "execution_count": 166,
   "id": "2650829f",
   "metadata": {},
   "outputs": [],
   "source": [
    "# Rejection method implementation\n",
    "def TargetSample(TrialGenerator, w, c, size = 1):\n",
    "    ''' The Size denote the number of of trials to generate the target sample, including the samples that are abandoned'''\n",
    "    # c should be sightly larger than the max(f(x)/g(x))\n",
    "    \n",
    "    # initialize the container\n",
    "    result = []\n",
    "    \n",
    "    # Create a list of target random variable\n",
    "    for i in range(size):\n",
    "            \n",
    "        # Generate instrumental variable\n",
    "        Instru = next(TrialGenerator)\n",
    "                \n",
    "        # Generate uniform r.v.\n",
    "        Uniform = np.random.random()\n",
    "            \n",
    "        # Decide whether to abandon the result\n",
    "        if Uniform <= w(Instru)/c:\n",
    "                result.append(Instru)\n",
    "                \n",
    "    # Making the return value a np.ndarray\n",
    "    Array = np.array(result)\n",
    "    \n",
    "    return Array"
   ]
  },
  {
   "cell_type": "code",
   "execution_count": 167,
   "id": "64105ae9",
   "metadata": {},
   "outputs": [],
   "source": [
    "def PI_hat_0(h, w, RNG, sampleSize, c, nrepeats = None):\n",
    "    ''' h(x) is the function whose expectation is to be calculated\n",
    "        w(x) is the Ragon-Nikedym Derivative f(.)/q(.) or its multipilication \n",
    "        RNG is the random number generator for q(.)\n",
    "    '''\n",
    "    def SingleTrial(h, w , RNG, sampleSize):\n",
    "        RandomNumbers = TargetSample(RNG, w, c, sampleSize)\n",
    "        return h(RandomNumbers).mean()\n",
    "    \n",
    "    if nrepeats == None:\n",
    "        return SingleTrial(h, w , RNG, sampleSize)\n",
    "    else:\n",
    "        resultArray = np.array([SingleTrial(h, w , RNG, sampleSize) for i in range(nrepeats)])\n",
    "        return resultArray"
   ]
  },
  {
   "cell_type": "code",
   "execution_count": 168,
   "id": "e5dd9435",
   "metadata": {},
   "outputs": [
    {
     "data": {
      "text/plain": [
       "4.229746266845291"
      ]
     },
     "execution_count": 168,
     "metadata": {},
     "output_type": "execute_result"
    }
   ],
   "source": [
    "# Rejection method\n",
    "h = lambda x : x\n",
    "w_unnormalized = lambda x: np.exp(-x**2/2+x-4)\n",
    "# w_unnormalized has maximum when x = 1, however x>4, as a result, the maximum is exp(-8)\n",
    "c = np.exp(-8)\n",
    "PI_hat_0(h, w_unnormalized, ExponentialGenerator_plus4(), 10000, c)"
   ]
  },
  {
   "cell_type": "code",
   "execution_count": 131,
   "id": "bc5f3f72",
   "metadata": {},
   "outputs": [
    {
     "data": {
      "text/plain": [
       "{'whiskers': [<matplotlib.lines.Line2D at 0x1ecc6f9a400>,\n",
       "  <matplotlib.lines.Line2D at 0x1ecc6f9a6d0>],\n",
       " 'caps': [<matplotlib.lines.Line2D at 0x1ecc6f9aa60>,\n",
       "  <matplotlib.lines.Line2D at 0x1ecc6f9adf0>],\n",
       " 'boxes': [<matplotlib.lines.Line2D at 0x1ecc6f81f70>],\n",
       " 'medians': [<matplotlib.lines.Line2D at 0x1ecc73091c0>],\n",
       " 'fliers': [<matplotlib.lines.Line2D at 0x1ecc7309550>],\n",
       " 'means': []}"
      ]
     },
     "execution_count": 131,
     "metadata": {},
     "output_type": "execute_result"
    },
    {
     "data": {
      "image/png": "[encoded data removed]",
      "text/plain": [
       "<Figure size 432x288 with 1 Axes>"
      ]
     },
     "metadata": {
      "needs_background": "light"
     },
     "output_type": "display_data"
    }
   ],
   "source": [
    "# Repeat 100 times rejection method\n",
    "Estimates0 = PI_hat_0(h, w_unnormalized, ExponentialGenerator_plus4(), 10000, c, 100)\n",
    "plt.boxplot(Estimates0)"
   ]
  },
  {
   "cell_type": "code",
   "execution_count": 132,
   "id": "1d4a6a83",
   "metadata": {},
   "outputs": [],
   "source": [
    "# Importance sampling method: PI_hat_1\n",
    "# importance sampling: Calculate E(h(X)) under f(.) measure by E(h(X)w(X)) under q(.) measure\n",
    "\n",
    "def PI_hat_1(h, w , RNG, sampleSize, nrepeats = None):\n",
    "    ''' h(x) is the function whose expectation is to be calculated\n",
    "        w(x) is the Ragon-Nikedym Derivative f(.)/q(.)!!!! NOT its multiplication!!!\n",
    "        RNG is the random number generator for q(.)\n",
    "    '''\n",
    "    def SingleTrial(h, w , RNG, sampleSize):\n",
    "        RandomNumbers = np.array([next(RNG) for i in range(sampleSize)])\n",
    "        return np.sum(h(RandomNumbers) * w(RandomNumbers))/RandomNumbers.size\n",
    "    if nrepeats == None:\n",
    "        return SingleTrial(h, w , RNG, sampleSize)\n",
    "    else:\n",
    "        resultArray = np.array([SingleTrial(h, w , RNG, sampleSize) for i in range(nrepeats)])\n",
    "        return resultArray"
   ]
  },
  {
   "cell_type": "code",
   "execution_count": 164,
   "id": "cf6dce98",
   "metadata": {},
   "outputs": [
    {
     "data": {
      "text/plain": [
       "4.312189001043268"
      ]
     },
     "execution_count": 164,
     "metadata": {},
     "output_type": "execute_result"
    }
   ],
   "source": [
    "# Importance sampling method: PI_hat_1\n",
    "# Don't know the exact conditional probability, use my Estimate instead\n",
    "w_normalized = lambda x: np.exp(-x**2/2+x-4)/(my_estimate_for_p_larger_than_4*np.sqrt(2*np.pi))\n",
    "PI_hat_1(h, w_normalized, ExponentialGenerator_plus4(), 10000)"
   ]
  },
  {
   "cell_type": "code",
   "execution_count": 165,
   "id": "03414428",
   "metadata": {
    "scrolled": true
   },
   "outputs": [
    {
     "data": {
      "text/plain": [
       "{'whiskers': [<matplotlib.lines.Line2D at 0x1ecc9fe1100>,\n",
       "  <matplotlib.lines.Line2D at 0x1ecc9fe1490>],\n",
       " 'caps': [<matplotlib.lines.Line2D at 0x1ecc9fe1820>,\n",
       "  <matplotlib.lines.Line2D at 0x1ecc9fe1bb0>],\n",
       " 'boxes': [<matplotlib.lines.Line2D at 0x1ecc780ed30>],\n",
       " 'medians': [<matplotlib.lines.Line2D at 0x1ecc9fe1f40>],\n",
       " 'fliers': [<matplotlib.lines.Line2D at 0x1ecc9fd6310>],\n",
       " 'means': []}"
      ]
     },
     "execution_count": 165,
     "metadata": {},
     "output_type": "execute_result"
    },
    {
     "data": {
      "image/png": "[encoded data removed]",
      "text/plain": [
       "<Figure size 432x288 with 1 Axes>"
      ]
     },
     "metadata": {
      "needs_background": "light"
     },
     "output_type": "display_data"
    }
   ],
   "source": [
    "# Repeat 100 times using PI1 estimator\n",
    "Estimates1 = PI_hat_1(h, w_normalized, ExponentialGenerator_plus4(), 10000, 100)\n",
    "plt.boxplot(Estimates1)"
   ]
  },
  {
   "cell_type": "code",
   "execution_count": 150,
   "id": "f162cc10",
   "metadata": {},
   "outputs": [
    {
     "data": {
      "text/plain": [
       "4.227755698050874"
      ]
     },
     "execution_count": 150,
     "metadata": {},
     "output_type": "execute_result"
    }
   ],
   "source": [
    "# PI2 estimator, the implementation is in Question 8 above\n",
    "PI_hat_2(h, w_unnormalized, ExponentialGenerator_plus4(), 10000)"
   ]
  },
  {
   "cell_type": "code",
   "execution_count": 139,
   "id": "cc4f15b7",
   "metadata": {},
   "outputs": [
    {
     "data": {
      "text/plain": [
       "{'whiskers': [<matplotlib.lines.Line2D at 0x1ecca7076d0>,\n",
       "  <matplotlib.lines.Line2D at 0x1ecca707a60>],\n",
       " 'caps': [<matplotlib.lines.Line2D at 0x1ecca707df0>,\n",
       "  <matplotlib.lines.Line2D at 0x1ecca6fa1c0>],\n",
       " 'boxes': [<matplotlib.lines.Line2D at 0x1ecca707340>],\n",
       " 'medians': [<matplotlib.lines.Line2D at 0x1ecca6fa550>],\n",
       " 'fliers': [<matplotlib.lines.Line2D at 0x1ecca6fa8e0>],\n",
       " 'means': []}"
      ]
     },
     "execution_count": 139,
     "metadata": {},
     "output_type": "execute_result"
    },
    {
     "data": {
      "image/png": "[encoded data removed]",
      "text/plain": [
       "<Figure size 432x288 with 1 Axes>"
      ]
     },
     "metadata": {
      "needs_background": "light"
     },
     "output_type": "display_data"
    }
   ],
   "source": [
    "# Repeat 100 times using PI2 estimator\n",
    "Estimates2 = PI_hat_2(h, w_unnormalized, ExponentialGenerator_plus4(), 10000, 100)\n",
    "plt.boxplot(Estimates2)"
   ]
  },
  {
   "cell_type": "markdown",
   "id": "ef9eeb3e",
   "metadata": {},
   "source": [
    "We can see the variance of estimators is clearly smaller in PI0 and PI2 than PI1, indicating PI1 is a bad estimator.<br>\n",
    "Also, it is faster to use PI2 than PI0."
   ]
  },
  {
   "cell_type": "code",
   "execution_count": null,
   "id": "a93c1a94",
   "metadata": {},
   "outputs": [],
   "source": []
  }
 ],
 "metadata": {
  "kernelspec": {
   "display_name": "Python 3",
   "language": "python",
   "name": "python3"
  },
  "language_info": {
   "codemirror_mode": {
    "name": "ipython",
    "version": 3
   },
   "file_extension": ".py",
   "mimetype": "text/x-python",
   "name": "python",
   "nbconvert_exporter": "python",
   "pygments_lexer": "ipython3",
   "version": "3.9.5"
  }
 },
 "nbformat": 4,
 "nbformat_minor": 5
}
