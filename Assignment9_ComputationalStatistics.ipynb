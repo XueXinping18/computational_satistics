{
 "cells": [
  {
   "cell_type": "code",
   "execution_count": 1,
   "id": "18cb015d",
   "metadata": {},
   "outputs": [],
   "source": [
    "import matplotlib.pyplot as plt\n",
    "import numpy as np\n",
    "import time"
   ]
  },
  {
   "cell_type": "markdown",
   "id": "8d2e681d",
   "metadata": {},
   "source": [
    "## Question 10"
   ]
  },
  {
   "cell_type": "code",
   "execution_count": 8,
   "id": "f438963a",
   "metadata": {},
   "outputs": [],
   "source": [
    "# Define the graph data structure, allowing accessing nodes with a specific t \n",
    "class Graph:\n",
    "    def __init__(self, MapOfStates):\n",
    "        # The map of states should have distinct keys (time) and for each time have a list of states\n",
    "        self.timelist = []\n",
    "        self.statemap = MapOfStates\n",
    "        for key in MapOfStates:\n",
    "            self.timelist.append(key)\n",
    "        self.timelist.sort()\n",
    "    def StatesByTime(self, t):\n",
    "        return self.statemap[t]\n",
    "    def Time(self):\n",
    "        return self.timelist\n",
    "    \n",
    "    # Using Viterbi algorithm to find shortest path\n",
    "    def Viterbi(self, DistanceFunc):\n",
    "        ''' \n",
    "        Distance Function requires three inputs: time, last state, next state\n",
    "        '''\n",
    "        TimeList = self.Time()\n",
    "        # initialize the map recording for each (time, state) the minimum distance from beginning and the node before this node\n",
    "        # This minmap is a map of map, with the key of outer map being time, the key of inner map is the state.\n",
    "        MinMap = {}\n",
    "        \n",
    "        ## Update the minmap for time 1\n",
    "        \n",
    "        # record important time and list of states\n",
    "        CurrentTime = TimeList[1]\n",
    "        LastTime = TimeList[0]\n",
    "        CurrentStates = self.StatesByTime(CurrentTime)\n",
    "        LastStates = self.StatesByTime(LastTime)\n",
    "        MinMap[CurrentTime] = {}\n",
    "        for cs in CurrentStates:\n",
    "            \n",
    "            min_distance = np.inf\n",
    "            min_lastState = np.nan\n",
    "            for ls in LastStates:\n",
    "                dist = DistanceFunc(CurrentTime, ls, cs)\n",
    "                if dist < min_distance:\n",
    "                    min_distance = dist\n",
    "                    min_lastState = ls\n",
    "            MinMap[CurrentTime][cs] = (min_distance, min_lastState)\n",
    "            \n",
    "            \n",
    "        ## update the minmap after the time 1\n",
    "        \n",
    "        for i in range(2,len(TimeList)):\n",
    "            # record important time and list of states\n",
    "            CurrentTime = TimeList[i]\n",
    "            LastTime = TimeList[i-1]\n",
    "            CurrentStates = self.StatesByTime(CurrentTime)\n",
    "            LastStates = self.StatesByTime(LastTime)\n",
    "            MinMap[CurrentTime] = {}\n",
    "            # find the min distance and the corresponding last node for each current node \n",
    "            for cs in CurrentStates:\n",
    "                min_distance = np.inf\n",
    "                min_lastState = np.nan\n",
    "                for ls in LastStates:\n",
    "                    # The key recursive formula here\n",
    "                    dist = DistanceFunc(CurrentTime, ls, cs) + MinMap[LastTime][ls][0]\n",
    "                    if dist < min_distance:\n",
    "                        min_distance = dist\n",
    "                        min_lastState = ls\n",
    "                MinMap[CurrentTime][cs] = (min_distance, min_lastState)\n",
    "            \n",
    "            \n",
    "            \n",
    "        ## Find the min distance among all path\n",
    "        EndMap = MinMap[TimeList[-1]] \n",
    "        EndingState = min(EndMap, key = lambda x: EndMap[x][0])\n",
    "        FinalDist = EndMap[EndingState][0]\n",
    "        ReversedPath = [(TimeList[-1],EndingState)]\n",
    "        \n",
    "        # Iterate to find the reversed path\n",
    "        state1 = EndingState\n",
    "        for t in list(reversed(TimeList))[0:-1]:\n",
    "            state1 = MinMap[t][state1][1]\n",
    "            ReversedPath.append((t,state1))\n",
    "        Path = list(reversed(ReversedPath))\n",
    "        \n",
    "        # Making the list into a map\n",
    "        PathMap = {}\n",
    "        for i in Path:\n",
    "            PathMap[i[0]] = i[1]\n",
    "        return FinalDist, PathMap\n",
    "    \n",
    "    # Optimal Trading path Algorithm\n",
    "    def OptimalTradingPath(self, CostFunction, LossFunction, IdealPath):\n",
    "        ''' Find the Optimal Trading path and the maximised utility '''\n",
    "        TimeList = self.Time()\n",
    "        def DistanceFunction(t, ps, cs):\n",
    "            if t == TimeList[-1]:\n",
    "                return CostFunction(cs-ps)\n",
    "            else:\n",
    "                return LossFunction(IdealPath(t)-cs) + CostFunction(cs-ps)\n",
    "        # Applying Viterbi algorithm\n",
    "        minTotalLoss, path = self.Viterbi(DistanceFunction)\n",
    "        return -minTotalLoss, path"
   ]
  },
  {
   "cell_type": "code",
   "execution_count": 9,
   "id": "361a1841",
   "metadata": {},
   "outputs": [
    {
     "name": "stdout",
     "output_type": "stream",
     "text": [
      "The maximized utility is -34.778633\n",
      "The optimal path is {1: 0, 2: 0.0, 3: 0.20000000000000018, 4: 0.8000000000000003, 5: 1.5, 6: 2.1000000000000005, 7: 2.6000000000000005, 8: 2.8000000000000007, 9: 2.8000000000000007, 10: 2.8000000000000007, 11: 2.8000000000000007, 12: 2.8000000000000007, 13: 2.8000000000000007, 14: 2.7, 15: 2.6000000000000005, 16: 2.4000000000000004, 17: 2.1000000000000005, 18: 1.8000000000000003, 19: 1.4000000000000004, 20: 0}\n",
      "The time used in the algorithm is: 1.478046 seconds\n"
     ]
    }
   ],
   "source": [
    "# Load functions\n",
    "c = lambda x: 2*(x**2 + np.abs(x))\n",
    "l = lambda x: 1/2*x**2\n",
    "y = lambda t: 25*np.exp(-(1+t)/8) - 40*np.exp(-(1+t)/4)\n",
    "# Create the graph\n",
    "times = np.array(range(1,20))\n",
    "states = list(np.linspace(-2,6,81))\n",
    "StatesMap = {}\n",
    "StatesMap[0] = [0]\n",
    "for t in times:\n",
    "    StatesMap[t] = states.copy()\n",
    "StatesMap[20] = [0]\n",
    "MyGraph = Graph(StatesMap)\n",
    "time1 = time.time()\n",
    "MaxUtility, path = MyGraph.OptimalTradingPath(c,l,y)\n",
    "time2 = time.time()\n",
    "\n",
    "print('The maximized utility is %f' % MaxUtility)\n",
    "print('The optimal path is', path)\n",
    "print('The time used in the algorithm is: %f seconds' %(time2-time1))"
   ]
  },
  {
   "cell_type": "code",
   "execution_count": 10,
   "id": "2b5fa8e2",
   "metadata": {
    "scrolled": true
   },
   "outputs": [
    {
     "data": {
      "image/png": "[encoded data removed]",
      "text/plain": [
       "<Figure size 432x288 with 1 Axes>"
      ]
     },
     "metadata": {
      "needs_background": "light"
     },
     "output_type": "display_data"
    }
   ],
   "source": [
    "# Plot the result\n",
    "fig, ax = plt.subplots()\n",
    "timeRange = np.arange(0,21,1)\n",
    "ax.plot(timeRange, y(timeRange), label = 'Path without transaction cost')\n",
    "ax.plot(path.keys(),path.values(), label = 'Optimal path with transaction cost')\n",
    "ax.legend()\n",
    "ax.grid()"
   ]
  },
  {
   "cell_type": "markdown",
   "id": "5a70d1d5",
   "metadata": {},
   "source": [
    "## Question 11"
   ]
  },
  {
   "cell_type": "markdown",
   "id": "0df0f1a3",
   "metadata": {},
   "source": [
    "a)"
   ]
  },
  {
   "cell_type": "code",
   "execution_count": 34,
   "id": "6634ea7d",
   "metadata": {},
   "outputs": [
    {
     "name": "stdout",
     "output_type": "stream",
     "text": [
      "The result of B is:\n",
      "4.1765323833865e+30\n"
     ]
    }
   ],
   "source": [
    "## Calculate B\n",
    "\n",
    "# Define State Space\n",
    "states = set([1,-1])\n",
    "h = lambda a,b : -0.1*a*b\n",
    "\n",
    "# Iteratively calculate the V(x)'s\n",
    "V = {}\n",
    "\n",
    "# When t = 1\n",
    "\n",
    "V[1] = {}\n",
    "V[1][1] = np.exp(-h(-1,1))+np.exp(-h(1,1))\n",
    "V[1][-1] = np.exp(-h(-1,-1))+np.exp(-h(1,-1))\n",
    "\n",
    "# When t>1\n",
    "for t in range(2,101):\n",
    "    V[t] = {}\n",
    "    V[t][1] = np.exp(-h(-1,1))*V[t-1][-1]+np.exp(-h(1,1))*V[t-1][1]\n",
    "    V[t][-1] = np.exp(-h(-1,-1))*V[t-1][-1]+np.exp(-h(1,-1))*V[t-1][1]\n",
    "B = V[100][1]+V[100][-1]\n",
    "\n",
    "# Record the V(.) to be used in next subquestion\n",
    "M = V\n",
    "print('The result of B is:')\n",
    "print(B)"
   ]
  },
  {
   "cell_type": "code",
   "execution_count": 32,
   "id": "fc1876fc",
   "metadata": {},
   "outputs": [
    {
     "name": "stdout",
     "output_type": "stream",
     "text": [
      "The expectation is:\n",
      "9.966799462495576\n"
     ]
    }
   ],
   "source": [
    "## Calculate the expectation\n",
    "# Iteratively calculate the V(x)'s\n",
    "V = {}\n",
    "g = lambda a,b: a*b\n",
    "\n",
    "# We introduce the V0 term to make the iteration consistent for all terms\n",
    "\n",
    "V[0] = {}\n",
    "V[0][1] = 1\n",
    "V[0][-1] = 1\n",
    "\n",
    "# Do the summation\n",
    "Sum = 0\n",
    "for i in range(1,101):\n",
    "    for t in range(1,101):\n",
    "        V[t] = {}\n",
    "        if t != i:\n",
    "            V[t][1] = np.exp(-h(-1,1))*V[t-1][-1]+np.exp(-h(1,1))*V[t-1][1]\n",
    "            V[t][-1] = np.exp(-h(-1,-1))*V[t-1][-1]+np.exp(-h(1,-1))*V[t-1][1]\n",
    "        # The case where the modification is required\n",
    "        else:\n",
    "            V[t][1] = np.exp(-h(-1,1))* g(-1,1) *V[t-1][-1]+np.exp(-h(1,1))* g(1,1)* V[t-1][1]\n",
    "            V[t][-1] = np.exp(-h(-1,-1)) * g(-1,-1) * V[t-1][-1]+np.exp(-h(1,-1))* g(1,-1) *V[t-1][1]\n",
    "    Sum += V[100][1]+V[100][-1]\n",
    "print('The expectation is:')\n",
    "print(Sum/B)"
   ]
  },
  {
   "cell_type": "markdown",
   "id": "74d10941",
   "metadata": {},
   "source": [
    "b)"
   ]
  },
  {
   "cell_type": "code",
   "execution_count": 38,
   "id": "ee481f0e",
   "metadata": {},
   "outputs": [
    {
     "name": "stdout",
     "output_type": "stream",
     "text": [
      "9.9564\n"
     ]
    }
   ],
   "source": [
    "nRepeats = 10000\n",
    "Sample = []\n",
    "V = M\n",
    "V[0] = {}\n",
    "V[0][1] = 1\n",
    "V[0][-1] = 1\n",
    "def MyRNG(x):\n",
    "    u = np.random.random()\n",
    "    if u<x:\n",
    "        return 1\n",
    "    else:\n",
    "        return -1\n",
    "for i in range(nRepeats):\n",
    "    Data = {}\n",
    "    Prob1 = {}\n",
    "    Prob1[100] = V[100][1]/B\n",
    "    Data[100] = MyRNG(Prob1[100])\n",
    "    for t in reversed(range(0, 100)):\n",
    "        p = (V[t][1]*np.exp(-h(1,Data[t+1])))/(V[t][1]*np.exp(-h(1,Data[t+1])) + V[t][-1]*np.exp(-h(-1,Data[t+1])))\n",
    "        Data[t] = MyRNG(p)\n",
    "        Prob1[t] = p\n",
    "    Sample.append(Data)\n",
    "    \n",
    "def G(Data):\n",
    "    Sum = 0\n",
    "    for i in range(1,101):\n",
    "        Sum += Data[i-1]*Data[i]\n",
    "    return Sum\n",
    "Total = 0\n",
    "for Data in Sample:\n",
    "    Total += G(Data)\n",
    "print(Total/nRepeats)"
   ]
  },
  {
   "cell_type": "code",
   "execution_count": null,
   "id": "16c06e51",
   "metadata": {},
   "outputs": [],
   "source": []
  }
 ],
 "metadata": {
  "kernelspec": {
   "display_name": "Python 3",
   "language": "python",
   "name": "python3"
  },
  "language_info": {
   "codemirror_mode": {
    "name": "ipython",
    "version": 3
   },
   "file_extension": ".py",
   "mimetype": "text/x-python",
   "name": "python",
   "nbconvert_exporter": "python",
   "pygments_lexer": "ipython3",
   "version": "3.9.5"
  }
 },
 "nbformat": 4,
 "nbformat_minor": 5
}
